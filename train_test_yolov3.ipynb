{
 "cells": [
  {
   "cell_type": "code",
   "execution_count": null,
   "metadata": {},
   "outputs": [],
   "source": [
    "# Il faut se mettre dans un environnement ayant les conditions requises pour faire tourner imageai (i.e. Python 3.7.6)\n",
    "\n",
    "from imageai.Detection.Custom import DetectionModelTrainer, CustomObjectDetection\n",
    "import os\n",
    "import cv2"
   ]
  },
  {
   "cell_type": "code",
   "execution_count": null,
   "metadata": {},
   "outputs": [],
   "source": [
    "current_path = os.getcwd()\n",
    "model_type = \"retinanet\"\n",
    "dataset_directory = os.path.join(current_path, \"dataset\")"
   ]
  },
  {
   "cell_type": "code",
   "execution_count": null,
   "metadata": {},
   "outputs": [],
   "source": [
    "trainer = DetectionModelTrainer()\n",
    "trainer.setModelTypeAsYOLOv3()\n",
    "trainer.setDataDirectory(data_directory = dataset_directory)\n",
    "trainer.setTrainConfig(object_names_array = [\"Logo AB\", \"Logo EU\", \"Logo BIO\"], batch_size=4, num_experiments=10)  # We can train from pretrained model here\n",
    "trainer.trainModel()"
   ]
  },
  {
   "cell_type": "code",
   "execution_count": null,
   "metadata": {},
   "outputs": [],
   "source": [
    "trainer.evaluateModel(model_path=\"\", json_path=\"dataset/json/detection_config.json\")"
   ]
  },
  {
   "cell_type": "code",
   "execution_count": null,
   "metadata": {},
   "outputs": [],
   "source": [
    "detector = CustomObjectDetection()\n",
    "detector.setModelTypeAsYOLOv3()\n",
    "detector.setModelPath(\"dataset/models/#########\")\n",
    "detector.setJsonPath(\"dataset/json/detection_config.json\")\n",
    "detector.loadModel()\n",
    "detector.detectObjectsFromImage(input_image=\"dataset/viennoiserie_3.jpeg\",output_image_path=\"\")"
   ]
  }
 ],
 "metadata": {
  "interpreter": {
   "hash": "97999f551398375d64993be89bf124a1ccff502cde73f9823aa9d07aa4f3ccfc"
  },
  "kernelspec": {
   "display_name": "Python 3.7.6 64-bit (system)",
   "language": "python",
   "name": "python3"
  },
  "language_info": {
   "codemirror_mode": {
    "name": "ipython",
    "version": 3
   },
   "file_extension": ".py",
   "mimetype": "text/x-python",
   "name": "python",
   "nbconvert_exporter": "python",
   "pygments_lexer": "ipython3",
   "version": "3.7.6"
  },
  "orig_nbformat": 4
 },
 "nbformat": 4,
 "nbformat_minor": 2
}
