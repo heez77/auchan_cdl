{
 "cells": [
  {
   "cell_type": "code",
   "execution_count": 1,
   "metadata": {},
   "outputs": [],
   "source": [
    "import pandas as pd\n",
    "import numpy as np\n",
    "from Entrainement.CamemBERT.camemBERT import text_prepare\n",
    "import shutil, os"
   ]
  },
  {
   "cell_type": "code",
   "execution_count": 32,
   "metadata": {},
   "outputs": [],
   "source": [
    "path = '/home/jeremy/AUCHAN 2/IMAGES/4992 images triees/avec les labels corriges'\n",
    "path_img_test = '/home/jeremy/Documents/GitHub/auchan_cdl/Entrainement/CamemBERT/Data/img_test.csv'\n",
    "path_descr_test = '/home/jeremy/Documents/GitHub/auchan_cdl/Entrainement/CamemBERT/Data/test.csv'\n",
    "path_data = '/home/jeremy/AUCHAN 2/auchan_cdl/Training/CamemBERT/Data/text_detector_data.csv'\n",
    "df_test = pd.read_csv(path_descr_test, index_col=False)\n",
    "df_img_test = pd.read_csv(path_img_test, index_col=False)\n",
    "data = pd.read_csv(path_data, index_col=False)\n",
    "data.dropna(inplace=True)\n",
    "description = [text_prepare(data['description_fournisseur'].iloc[i]+ ' ' + data['description_produit'].iloc[i]) for i in range(len(data))]\n",
    "df = df_test.copy()\n",
    "df['image'] = df_img_test.image\n",
    "del df['Unnamed: 0']\n",
    "df_result=df[['image','text']]\n",
    "label = []\n",
    "columns = df.columns\n",
    "df_result=df[['image','text']]\n",
    "df_result['label'] = label\n",
    "for i in range(len(df)):\n",
    "    label.append(columns[df.iloc[i].values.tolist().index(1.0)])\n",
    "for i in range(len(df_result)):\n",
    "    df_result.image.iloc[i] = data.image.iloc[description.index(df_result.description.iloc[i])]\n",
    "df_result.rename(columns={'text': 'description'}, inplace=True)\n",
    "df_result.to_csv(os.path.join('/home/jeremy/Documents/GitHub/auchan_cdl/Data/Predictions_classification','prediction.csv'))"
   ]
  },
  {
   "cell_type": "code",
   "execution_count": 58,
   "metadata": {},
   "outputs": [],
   "source": [
    "for i in range(len(df_result)):\n",
    "    shutil.copyfile(os.path.join(path,df_result.label.iloc[i],df_result.image.iloc[i]), os.path.join('/home/jeremy/Documents/GitHub/auchan_cdl/Data/Predictions_classification',df_result.image.iloc[i]))"
   ]
  }
 ],
 "metadata": {
  "interpreter": {
   "hash": "3d6b91a3955ec9054229600ec863c492cc972c6f97d69df1e6e0d1a8c674dcee"
  },
  "kernelspec": {
   "display_name": "Python 3.8.10 64-bit ('pytorch-awesome': venv)",
   "language": "python",
   "name": "python3"
  },
  "language_info": {
   "codemirror_mode": {
    "name": "ipython",
    "version": 3
   },
   "file_extension": ".py",
   "mimetype": "text/x-python",
   "name": "python",
   "nbconvert_exporter": "python",
   "pygments_lexer": "ipython3",
   "version": "3.8.10"
  },
  "orig_nbformat": 4
 },
 "nbformat": 4,
 "nbformat_minor": 2
}
